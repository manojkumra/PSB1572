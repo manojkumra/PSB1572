{
  "nbformat": 4,
  "nbformat_minor": 0,
  "metadata": {
    "colab": {
      "provenance": [],
      "authorship_tag": "ABX9TyPeY4fGGY9KIXWvMcp+KFrt",
      "include_colab_link": true
    },
    "kernelspec": {
      "name": "python3",
      "display_name": "Python 3"
    },
    "language_info": {
      "name": "python"
    }
  },
  "cells": [
    {
      "cell_type": "markdown",
      "metadata": {
        "id": "view-in-github",
        "colab_type": "text"
      },
      "source": [
        "<a href=\"https://colab.research.google.com/github/manojkumra/PSB1572/blob/main/Uniform_cost_search.ipynb\" target=\"_parent\"><img src=\"https://colab.research.google.com/assets/colab-badge.svg\" alt=\"Open In Colab\"/></a>"
      ]
    },
    {
      "cell_type": "code",
      "execution_count": 1,
      "metadata": {
        "colab": {
          "base_uri": "https://localhost:8080/"
        },
        "id": "m9zg2iQsjrAX",
        "outputId": "bd9e3661-92af-404c-fc48-66d00d82c0c4"
      },
      "outputs": [
        {
          "output_type": "stream",
          "name": "stdout",
          "text": [
            "enter the staring nodeA\n",
            "enter the ending nodeG\n",
            "shortest path betweenA and G is ['A', 'C', 'E', 'G']\n",
            "path cost is 5\n"
          ]
        }
      ],
      "source": [
        "def uniform_cost_search(start,tree,end):\n",
        "    que=[(0,[start])]\n",
        "    while que:\n",
        "        que.sort()\n",
        "        cost,path=que.pop(0)\n",
        "        current=path[-1]\n",
        "\n",
        "        if current==end:\n",
        "            return path,cost\n",
        "        for neighbour,neigh_cost in tree[current].items():\n",
        "            if neighbour not in path:\n",
        "                que.append((cost+neigh_cost,path+[neighbour]))\n",
        "    return False,False\n",
        "\n",
        "tree = {\n",
        "    'A': {'B': 5, 'C': 2},\n",
        "    'B': {'D':1},\n",
        "    'C': {'F': 2,'E':1},\n",
        "    'D': {'G': 2},\n",
        "    'E': {'G':2},\n",
        "    'F': {'G':2},\n",
        "    'G': {}\n",
        "}\n",
        "start=input(\"enter the staring node\").upper()\n",
        "end=input(\"enter the ending node\").upper()\n",
        "shortest_path,path_cost=uniform_cost_search(start,tree,end)\n",
        "if shortest_path:\n",
        "    print(f\"shortest path between{start} and {end} is {shortest_path}\")\n",
        "    print(f\"path cost is {path_cost}\")\n",
        "else:\n",
        "    print(\"path not found\")"
      ]
    }
  ]
}