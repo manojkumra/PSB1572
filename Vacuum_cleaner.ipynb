{
  "nbformat": 4,
  "nbformat_minor": 0,
  "metadata": {
    "colab": {
      "provenance": [],
      "authorship_tag": "ABX9TyM1/8wIyJQsZbsmzW4xMi6u",
      "include_colab_link": true
    },
    "kernelspec": {
      "name": "python3",
      "display_name": "Python 3"
    },
    "language_info": {
      "name": "python"
    }
  },
  "cells": [
    {
      "cell_type": "markdown",
      "metadata": {
        "id": "view-in-github",
        "colab_type": "text"
      },
      "source": [
        "<a href=\"https://colab.research.google.com/github/manojkumra/PSB1572/blob/main/Vacuum_cleaner.ipynb\" target=\"_parent\"><img src=\"https://colab.research.google.com/assets/colab-badge.svg\" alt=\"Open In Colab\"/></a>"
      ]
    },
    {
      "cell_type": "code",
      "execution_count": null,
      "metadata": {
        "colab": {
          "base_uri": "https://localhost:8080/"
        },
        "id": "jyyTIB_jhej9",
        "outputId": "493d0333-c94a-448a-e59d-5aaf57b9b574"
      },
      "outputs": [
        {
          "output_type": "stream",
          "name": "stdout",
          "text": [
            "B and its clean\n",
            "enter'exit'if you want to exit:B\n",
            "action: move_left\n",
            "A and its clean\n",
            "enter'exit'if you want to exit:A\n",
            "action: move_right\n",
            "B and its dirty\n",
            "enter'exit'if you want to exit:B\n",
            "action: suck\n",
            "the room B cleaned\n",
            "B and its clean\n",
            "enter'exit'if you want to exit:A\n",
            "action: move_left\n",
            "A and its dirty\n",
            "enter'exit'if you want to exit:B\n",
            "action: suck\n",
            "the room A cleaned\n",
            "A and its clean\n",
            "enter'exit'if you want to exit:C\n",
            "action: move_right\n",
            "B and its dirty\n"
          ]
        }
      ],
      "source": [
        "import random\n",
        "def get_action(room,condition):\n",
        "    print(f\"{room} and its {condition}\")\n",
        "    percepts={\n",
        "        (\"A\",\"clean\"):\"move_right\",\n",
        "        (\"A\",\"dirty\"):\"suck\",\n",
        "        (\"B\",\"clean\"):\"move_left\",\n",
        "        (\"B\",\"dirty\"):\"suck\",\n",
        "    }\n",
        "    return percepts[(room,condition)]\n",
        "def move_right(conditions):\n",
        "    return(\"B\",random.choice(conditions))\n",
        "def suck(room):\n",
        "    print(\"the room\",room,\"cleaned\")\n",
        "    return(room,\"clean\")\n",
        "def move_left(conditions):\n",
        "    return(\"A\",random.choice(conditions))\n",
        "conditions=[\"clean\",\"dirty\"]\n",
        "room=\"B\"\n",
        "action=get_action(room,random.choice(conditions))\n",
        "while True:\n",
        "    key=input(\"enter'exit'if you want to exit:\")\n",
        "    print(\"action:\",action)\n",
        "    if key==\"exit\":\n",
        "        break\n",
        "    if action==\"suck\":\n",
        "        room,condition=suck(room)\n",
        "        action=get_action(room,condition)\n",
        "    elif action==\"move_left\":\n",
        "        room,condition=move_left(conditions)\n",
        "        action=get_action(room,condition)\n",
        "    elif action==\"move_right\":\n",
        "        room,condition=move_right(conditions)\n",
        "        action=get_action(room,condition)"
      ]
    }
  ]
}