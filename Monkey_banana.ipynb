{
  "nbformat": 4,
  "nbformat_minor": 0,
  "metadata": {
    "colab": {
      "provenance": [],
      "authorship_tag": "ABX9TyPq1LOyD92u8tRr/NCQrrz+",
      "include_colab_link": true
    },
    "kernelspec": {
      "name": "python3",
      "display_name": "Python 3"
    },
    "language_info": {
      "name": "python"
    }
  },
  "cells": [
    {
      "cell_type": "markdown",
      "metadata": {
        "id": "view-in-github",
        "colab_type": "text"
      },
      "source": [
        "<a href=\"https://colab.research.google.com/github/manojkumra/PSB1572/blob/main/Monkey_banana.ipynb\" target=\"_parent\"><img src=\"https://colab.research.google.com/assets/colab-badge.svg\" alt=\"Open In Colab\"/></a>"
      ]
    },
    {
      "cell_type": "code",
      "execution_count": 1,
      "metadata": {
        "colab": {
          "base_uri": "https://localhost:8080/"
        },
        "id": "1IG7wTPRkMom",
        "outputId": "8284e75b-8c6d-4ef9-8819-b766b5562eb7"
      },
      "outputs": [
        {
          "output_type": "stream",
          "name": "stdout",
          "text": [
            "[(2, 3), (3, 3), (4, 3), (5, 3), (6, 3), (6, 4)]\n",
            "path of the monkey to reach box [(2, 3), (3, 3), (4, 3), (5, 3), (6, 3), (6, 4)]\n",
            "the path of the monkey to reach the banana with box is  [(5, 4), (4, 4), (3, 4), (2, 4), (1, 4), (1, 5), (1, 6), (1, 7)]\n",
            "['#', '#', '#', '#', '#', '#', '#', '#']\n",
            "['#', '0', '0', 'M', '$', '$', '$', '$']\n",
            "['#', '0', '0', '*', '$', '0', '0', '#']\n",
            "['#', '0', '0', '*', '$', '0', '0', '#']\n",
            "['#', '0', '0', '*', '$', '0', '0', '#']\n",
            "['#', '0', '0', '*', '$', '0', '0', '#']\n",
            "['#', '0', '0', '*', '*', '0', '0', '#']\n",
            "['#', '#', '#', '#', '#', '#', '#', '#']\n"
          ]
        }
      ],
      "source": [
        "from collections import deque\n",
        "def is_valid(x,y,grid):\n",
        "    return 0<=x<len(grid) and 0<=y<len(grid[0]) and grid[x][y]!=\"#\"\n",
        "def bfs(start,target,grid):\n",
        "    que=deque([(start,[])])\n",
        "    visited=set()\n",
        "    while que:\n",
        "        current,path=que.popleft()\n",
        "        if current==target:\n",
        "            return path\n",
        "        if current in visited:\n",
        "            continue\n",
        "        visited.add(current)\n",
        "        x,y=current\n",
        "        neighbours=[(x-1,y),(x+1,y),(x,y+1),(x,y-1)]\n",
        "        for x,y in neighbours:\n",
        "            if is_valid(x,y,grid):\n",
        "                que.append(((x,y),path+[(x,y)]))\n",
        "grid = [\n",
        "    ['#', '#', '#', '#', '#', '#', '#', '#'],\n",
        "    ['#', '0', '0', 'M', '0', '0', '0', 'BA'],\n",
        "    ['#', '0', '0', '0', '0', '0', '0', '#'],\n",
        "    ['#', '0', '0', '0', '0', '0', '0', '#'],\n",
        "    ['#', '0', '0', '0', '0', '0', '0', '#'],\n",
        "    ['#', '0', '0', '0', '0', '0', '0', '#'],\n",
        "    ['#', '0', '0', '0', 'BO', '0', '0', '#'],\n",
        "    ['#', '#', '#', '#', '#', '#', '#', '#']\n",
        "]\n",
        "monkey=(1,3)\n",
        "box=(6,4)\n",
        "banana=(1,7)\n",
        "path_to_box=bfs(monkey,box,grid)\n",
        "print(path_to_box)\n",
        "if path_to_box:\n",
        "    print(\"path of the monkey to reach box\",path_to_box)\n",
        "    path_to_banana=bfs(box,banana,grid)\n",
        "    if path_to_banana:\n",
        "        print(\"the path of the monkey to reach the banana with box is \",path_to_banana)\n",
        "        for x,y in path_to_box:\n",
        "            grid[x][y]=\"*\"\n",
        "        for x,y in path_to_banana:\n",
        "            grid[x][y]=\"$\"\n",
        "    else:\n",
        "        print(\"no path found to reach banana\")\n",
        "else:\n",
        "    print(\"no path found to reach box\")\n",
        "for i in grid:\n",
        "    print(i)"
      ]
    }
  ]
}