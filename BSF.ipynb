{
  "nbformat": 4,
  "nbformat_minor": 0,
  "metadata": {
    "colab": {
      "provenance": [],
      "authorship_tag": "ABX9TyMx4cr3R3On1wQXpnHc9kSs",
      "include_colab_link": true
    },
    "kernelspec": {
      "name": "python3",
      "display_name": "Python 3"
    },
    "language_info": {
      "name": "python"
    }
  },
  "cells": [
    {
      "cell_type": "markdown",
      "metadata": {
        "id": "view-in-github",
        "colab_type": "text"
      },
      "source": [
        "<a href=\"https://colab.research.google.com/github/manojkumra/PSB1572/blob/main/BSF.ipynb\" target=\"_parent\"><img src=\"https://colab.research.google.com/assets/colab-badge.svg\" alt=\"Open In Colab\"/></a>"
      ]
    },
    {
      "cell_type": "code",
      "execution_count": 1,
      "metadata": {
        "colab": {
          "base_uri": "https://localhost:8080/"
        },
        "id": "oeu0W4pwjOM3",
        "outputId": "0d610f40-d46d-4785-a3f9-ad6359511088"
      },
      "outputs": [
        {
          "output_type": "stream",
          "name": "stdout",
          "text": [
            "enter the starting nodeA\n",
            "enter the ending nodeB\n",
            "shortest path\n",
            "A->B->"
          ]
        }
      ],
      "source": [
        "from collections import deque\n",
        "def path(start,tree,end):\n",
        "    que=deque()\n",
        "    parent={}\n",
        "    que.append(start)\n",
        "    parent[start]=None\n",
        "    while que:\n",
        "        current=que.popleft()\n",
        "        if current==end:\n",
        "            break\n",
        "        for i in tree[current]:\n",
        "            if i not in parent:\n",
        "                que.append(i)\n",
        "                parent[i]=current\n",
        "    if end not in parent:\n",
        "        return False\n",
        "    paths=[]\n",
        "    while end is not None:\n",
        "        paths.append(end)\n",
        "        end=parent[end]\n",
        "    return list(reversed(paths))\n",
        "tree = {\n",
        "    'A': ['B', 'C'],\n",
        "    'B': ['D', 'E'],\n",
        "    'C': ['F'],\n",
        "    'D': [],\n",
        "    'E': [],\n",
        "    'F': []\n",
        "}\n",
        "start=input(\"enter the starting node\").upper()\n",
        "end=input(\"enter the ending node\").upper()\n",
        "shortest_path=path(start,tree,end)\n",
        "if shortest_path:\n",
        "    print(\"shortest path\")\n",
        "    for i in shortest_path:\n",
        "        print(i,end=\"->\")\n",
        "else:\n",
        "    print(\"no path found\")"
      ]
    }
  ]
}